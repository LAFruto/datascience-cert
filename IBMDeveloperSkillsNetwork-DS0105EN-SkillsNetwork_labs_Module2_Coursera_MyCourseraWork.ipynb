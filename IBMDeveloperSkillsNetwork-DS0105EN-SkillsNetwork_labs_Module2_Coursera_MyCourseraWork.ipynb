{
  "metadata": {
    "language_info": {
      "codemirror_mode": {
        "name": "python",
        "version": 3
      },
      "file_extension": ".py",
      "mimetype": "text/x-python",
      "name": "python",
      "nbconvert_exporter": "python",
      "pygments_lexer": "ipython3",
      "version": "3.8"
    },
    "kernelspec": {
      "name": "python",
      "display_name": "Pyolite",
      "language": "python"
    }
  },
  "nbformat_minor": 4,
  "nbformat": 4,
  "cells": [
    {
      "cell_type": "markdown",
      "source": "# My Jupyter Notebook on IBM Watson Studio",
      "metadata": {}
    },
    {
      "cell_type": "markdown",
      "source": "__Luis Angelo Fruto__ -\nAspiring Software Developer",
      "metadata": {}
    },
    {
      "cell_type": "markdown",
      "source": "<i>I took interest in Data Science because the skillset is relevant to my current work and I'm interested in the field of analytics.<i>",
      "metadata": {}
    },
    {
      "cell_type": "markdown",
      "source": "### The code below converts Decimal numbers to its Octal form",
      "metadata": {}
    },
    {
      "cell_type": "code",
      "source": "# Decimal to Octal (supports positive real numbers with 5 decimal places / R+)\ndef main():\n    decimal = str(19)\n    \n    if not decimal:\n        print(\"Please input a decimal number.\")\n    elif not isinstance(decimal, str) or not decimal.replace('.', '').isnumeric():\n        print(\"Please input a valid decimal number.\")\n    elif decimal == \"0\":\n        print(\"The octal representation is\", decimal)\n    else:\n        decimalToOctal(decimal)\n\ndef decimalToOctal(decimal):\n    leftDigits = \"\" # Left side of the given number / whole numbers\n    rightDigits = \"\" # Right side of the given number / fraction\n    afterPoint = False\n\n    resOctal = \"\"\n\n    # Divide left digits and right digits / ex. [123] [.] [456]\n    for digit in decimal:\n        if afterPoint:\n            rightDigits += digit\n        elif digit == \".\":\n            afterPoint = True\n        else:\n            leftDigits += digit\n\n    # Converts to int\n    leftDigits = int(leftDigits)\n    # Checks if fraction and converts right digits to float if fraction\n    if rightDigits:\n        rightDigits = float('0.' + rightDigits)\n\n    # Left digits calculation\n    print(\"Quotient Remainder   Octal\")\n    while leftDigits != 0:\n        remainder = leftDigits % 8\n        leftDigits = leftDigits // 8\n        resOctal = str(remainder) + resOctal\n        print(\"%5d%8d%12s\" % (leftDigits, remainder, resOctal))\n\n    # Right digits calculation\n    if rightDigits:\n        resOctal += \".\"\n        rightSide = set() # Set to stop at repetitions\n        while True:\n            prod = float(rightDigits) * 8\n            resOctal += str(int(prod))\n            rightDigits = round(prod - int(prod), 5)\n            if rightDigits in rightSide:\n                break\n            rightSide.add(rightDigits)\n\n    print(\"The octal representation is\", resOctal)\n\nif __name__ == '__main__':\n    main()",
      "metadata": {
        "trusted": true
      },
      "execution_count": 15,
      "outputs": [
        {
          "name": "stdout",
          "text": "Quotient Remainder   Octal\n    2       3           3\n    0       2          23\nThe octal representation is 23\n",
          "output_type": "stream"
        }
      ]
    },
    {
      "cell_type": "markdown",
      "source": "| ~Tables~        | are           |nice   |\n| ------------- |:-------------:| -----:|\n| nice          | table         | 10/10 |\n| nice          | table         | 10/10 |\n| nice          | table         | 10/10 |\n| nice          | table         | 10/10 |\n\n<a href=\"https://dataplatform.cloud.ibm.com/gallery\">IBM Cloud Gallery</a> ",
      "metadata": {}
    },
    {
      "cell_type": "code",
      "source": "",
      "metadata": {},
      "execution_count": null,
      "outputs": []
    }
  ]
}